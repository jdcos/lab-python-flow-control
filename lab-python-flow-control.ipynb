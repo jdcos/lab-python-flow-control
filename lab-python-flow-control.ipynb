{
 "cells": [
  {
   "cell_type": "markdown",
   "id": "d3bfc191-8885-42ee-b0a0-bbab867c6f9f",
   "metadata": {
    "tags": []
   },
   "source": [
    "# Lab | Flow Control"
   ]
  },
  {
   "cell_type": "markdown",
   "id": "3851fcd1-cf98-4653-9c89-e003b7ec9400",
   "metadata": {},
   "source": [
    "## Exercise: Managing Customer Orders Optimized\n",
    "\n",
    "In the last lab, you were starting an online store that sells various products. To ensure smooth operations, you developed a program that manages customer orders and inventory.\n",
    "\n",
    "You did so without using flow control. Let's go a step further and improve this code.\n",
    "\n",
    "Follow the steps below to complete the exercise:\n",
    "\n",
    "1. Look at your code from the lab data structures, and improve repeated code with loops.\n",
    "\n",
    "2. Instead of asking the user to input the name of three products that a customer wants to order, do the following:\n",
    "    \n",
    "    a. Prompt the user to enter the name of a product that a customer wants to order.\n",
    "    \n",
    "    b. Add the product name to the \"customer_orders\" set.\n",
    "    \n",
    "    c. Ask the user if they want to add another product (yes/no).\n",
    "    \n",
    "    d. Continue the loop until the user does not want to add another product.\n",
    "\n",
    "3. Instead of updating the inventory by subtracting 1 from the quantity of each product, only do it for  the products that were ordered (those in \"customer_orders\")."
   ]
  },
  {
   "cell_type": "code",
   "execution_count": 1,
   "id": "d3a6c9ce-cc5c-42a6-856c-066a0c2de714",
   "metadata": {},
   "outputs": [],
   "source": [
    "#1\n",
    "products = [\"t-shirt\", \"mug\", \"hat\", \"book\", \"keychain\"]"
   ]
  },
  {
   "cell_type": "code",
   "execution_count": 3,
   "id": "66720c9b-c6dd-43b0-9933-84923cddee5b",
   "metadata": {},
   "outputs": [],
   "source": [
    "inventory = {}"
   ]
  },
  {
   "cell_type": "code",
   "execution_count": 5,
   "id": "b445426a-994b-47b0-bfe1-f1e55c368b37",
   "metadata": {},
   "outputs": [
    {
     "name": "stdin",
     "output_type": "stream",
     "text": [
      "Enter your quantity:  3\n",
      "Enter your quantity:  4\n",
      "Enter your quantity:  5\n",
      "Enter your quantity:  8\n",
      "Enter your quantity:  2\n"
     ]
    }
   ],
   "source": [
    "for i in products:\n",
    "    inventory[i] = int(input(\"Enter your quantity: \"))"
   ]
  },
  {
   "cell_type": "code",
   "execution_count": 7,
   "id": "2cf87f41-cc33-4938-a572-7a63dcf4adeb",
   "metadata": {},
   "outputs": [],
   "source": [
    "customer_orders = set()"
   ]
  },
  {
   "cell_type": "code",
   "execution_count": 9,
   "id": "04820c78-cf28-4b0e-8ace-c2101efb2b29",
   "metadata": {},
   "outputs": [
    {
     "name": "stdin",
     "output_type": "stream",
     "text": [
      "Enter your product:  hat\n",
      "Enter your choice:  yes\n",
      "Enter your product:  mug\n",
      "Enter your choice:  yes\n",
      "Enter your product:  book\n",
      "Enter your choice:  no\n"
     ]
    }
   ],
   "source": [
    "#2\n",
    "product_name = input(\"Enter your product: \")\n",
    "customer_orders.add(product_name)\n",
    "user_choice = input(\"Enter your choice: \")\n",
    "while user_choice == \"yes\":\n",
    "    product_name = input(\"Enter your product: \")\n",
    "    customer_orders.add(product_name)\n",
    "    user_choice = input(\"Enter your choice: \")"
   ]
  },
  {
   "cell_type": "code",
   "execution_count": 11,
   "id": "a74c82f2-4e86-4bac-b0f4-17f4d2d67b49",
   "metadata": {},
   "outputs": [
    {
     "data": {
      "text/plain": [
       "{'book', 'hat', 'mug'}"
      ]
     },
     "execution_count": 11,
     "metadata": {},
     "output_type": "execute_result"
    }
   ],
   "source": [
    "customer_orders"
   ]
  },
  {
   "cell_type": "code",
   "execution_count": 13,
   "id": "bbca80be-6571-4807-b7b2-89a3b0e8780c",
   "metadata": {},
   "outputs": [
    {
     "data": {
      "text/plain": [
       "{'t-shirt': 3, 'mug': 4, 'hat': 5, 'book': 8, 'keychain': 2}"
      ]
     },
     "execution_count": 13,
     "metadata": {},
     "output_type": "execute_result"
    }
   ],
   "source": [
    "inventory"
   ]
  },
  {
   "cell_type": "code",
   "execution_count": 15,
   "id": "095145a2-ba20-4e57-b5c6-9ada66fa724f",
   "metadata": {},
   "outputs": [],
   "source": [
    "#3\n",
    "for order in customer_orders:\n",
    "    if order in inventory:\n",
    "        inventory[order] -= 1"
   ]
  },
  {
   "cell_type": "code",
   "execution_count": 17,
   "id": "2157b5f6-700f-4e21-9b98-eaf43fe8f46a",
   "metadata": {},
   "outputs": [
    {
     "data": {
      "text/plain": [
       "{'t-shirt': 3, 'mug': 3, 'hat': 4, 'book': 7, 'keychain': 2}"
      ]
     },
     "execution_count": 17,
     "metadata": {},
     "output_type": "execute_result"
    }
   ],
   "source": [
    "inventory"
   ]
  }
 ],
 "metadata": {
  "kernelspec": {
   "display_name": "Python 3 (ipykernel)",
   "language": "python",
   "name": "python3"
  },
  "language_info": {
   "codemirror_mode": {
    "name": "ipython",
    "version": 3
   },
   "file_extension": ".py",
   "mimetype": "text/x-python",
   "name": "python",
   "nbconvert_exporter": "python",
   "pygments_lexer": "ipython3",
   "version": "3.12.4"
  }
 },
 "nbformat": 4,
 "nbformat_minor": 5
}
